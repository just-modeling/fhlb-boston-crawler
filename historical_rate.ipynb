{
 "cells": [
  {
   "cell_type": "code",
   "execution_count": 40,
   "metadata": {},
   "outputs": [
    {
     "name": "stderr",
     "output_type": "stream",
     "text": [
      "/var/folders/yl/gt92zxj943n1k6b_4t935wwm0000gp/T/ipykernel_85625/3264693638.py:16: DeprecationWarning: executable_path has been deprecated, please pass in a Service object\n",
      "  driver = webdriver.Chrome(executable_path=r'/Users/zjia/Downloads/chromedriver-105', chrome_options=options)\n",
      "/var/folders/yl/gt92zxj943n1k6b_4t935wwm0000gp/T/ipykernel_85625/3264693638.py:16: DeprecationWarning: use options instead of chrome_options\n",
      "  driver = webdriver.Chrome(executable_path=r'/Users/zjia/Downloads/chromedriver-105', chrome_options=options)\n"
     ]
    }
   ],
   "source": [
    "from selenium import webdriver\n",
    "from selenium.webdriver.common.keys import Keys\n",
    "from selenium.webdriver.common.by import By\n",
    "from selenium.webdriver.chrome.options import Options\n",
    "import time\n",
    "\n",
    "options = Options()\n",
    "options.add_experimental_option(\"prefs\", {\n",
    "  \"download.default_directory\": r\"/Users/zjia/Downloads/fhlb-historical-rates\",\n",
    "  \"download.prompt_for_download\": False,\n",
    "  \"download.directory_upgrade\": True,\n",
    "  \"safebrowsing.enabled\": True\n",
    "})\n",
    "\n",
    "## Go to main page\n",
    "driver = webdriver.Chrome(executable_path=r'/Users/zjia/Downloads/chromedriver-105', chrome_options=options)\n",
    "driver.get(\"https://www.fhlbboston.com/fhlbank-boston/rates#/short-term\")\n",
    "assert \"Federal Home Loan Bank Rates\" in driver.title\n",
    "\n",
    "## Nagivate to Historical Rates page\n",
    "time.sleep(3) # Allow javascript to load completely\n",
    "historical_rate_entrance = driver.find_element(By.XPATH,'//a[@class=\"btn historical-rates-btn\"]')\n",
    "historical_rate_entrance.click()\n",
    "\n",
    "## Set Date\n",
    "time.sleep(2) # Allow page transition\n",
    "calendar_input = driver.find_element(By.XPATH, '//input[@aria-label=\"Date input field\"]')\n",
    "calendar_input.send_keys(\"09/08/2022\")\n",
    "\n",
    "## Download data\n",
    "time.sleep(2) # Allow download button to be enabled\n",
    "download_button = driver.find_element(By.XPATH, '//button[@class=\"btn download-rates-btn\"]')\n",
    "download_button.click()\n",
    "\n",
    "## Allow session active while downloading\n",
    "time.sleep(5)\n",
    "driver.close()\n"
   ]
  },
  {
   "cell_type": "code",
   "execution_count": null,
   "metadata": {},
   "outputs": [],
   "source": []
  },
  {
   "cell_type": "code",
   "execution_count": null,
   "metadata": {},
   "outputs": [],
   "source": []
  }
 ],
 "metadata": {
  "kernelspec": {
   "display_name": "Python 3.9.13 ('fhlb-crawler')",
   "language": "python",
   "name": "python3"
  },
  "language_info": {
   "codemirror_mode": {
    "name": "ipython",
    "version": 3
   },
   "file_extension": ".py",
   "mimetype": "text/x-python",
   "name": "python",
   "nbconvert_exporter": "python",
   "pygments_lexer": "ipython3",
   "version": "3.9.13"
  },
  "orig_nbformat": 4,
  "vscode": {
   "interpreter": {
    "hash": "97ebe8ea13741110925057f84419415dcc53bfa57ae294489583e7b70359fe4f"
   }
  }
 },
 "nbformat": 4,
 "nbformat_minor": 2
}
